{
 "cells": [
  {
   "cell_type": "code",
   "execution_count": 17,
   "metadata": {},
   "outputs": [],
   "source": [
    "import utils.data_helper as data_helper\n",
    "import utils.google_helper as google_helper\n",
    "import pandas as pd"
   ]
  },
  {
   "cell_type": "code",
   "execution_count": 18,
   "metadata": {},
   "outputs": [
    {
     "data": {
      "text/html": [
       "<div>\n",
       "<style scoped>\n",
       "    .dataframe tbody tr th:only-of-type {\n",
       "        vertical-align: middle;\n",
       "    }\n",
       "\n",
       "    .dataframe tbody tr th {\n",
       "        vertical-align: top;\n",
       "    }\n",
       "\n",
       "    .dataframe thead th {\n",
       "        text-align: right;\n",
       "    }\n",
       "</style>\n",
       "<table border=\"1\" class=\"dataframe\">\n",
       "  <thead>\n",
       "    <tr style=\"text-align: right;\">\n",
       "      <th></th>\n",
       "      <th>Transaction_ID</th>\n",
       "      <th>Crypto_ID</th>\n",
       "      <th>Merchant_ID</th>\n",
       "      <th>Wallet_ID</th>\n",
       "      <th>Date_Time_ID</th>\n",
       "      <th>Traded_Amount</th>\n",
       "      <th>Fees</th>\n",
       "    </tr>\n",
       "  </thead>\n",
       "  <tbody>\n",
       "    <tr>\n",
       "      <th>0</th>\n",
       "      <td>1</td>\n",
       "      <td>97</td>\n",
       "      <td>10003</td>\n",
       "      <td>6143198675</td>\n",
       "      <td>1001</td>\n",
       "      <td>160</td>\n",
       "      <td>0.48</td>\n",
       "    </tr>\n",
       "    <tr>\n",
       "      <th>1</th>\n",
       "      <td>2</td>\n",
       "      <td>70</td>\n",
       "      <td>9997</td>\n",
       "      <td>3126414494</td>\n",
       "      <td>1002</td>\n",
       "      <td>52</td>\n",
       "      <td>1.73</td>\n",
       "    </tr>\n",
       "    <tr>\n",
       "      <th>2</th>\n",
       "      <td>3</td>\n",
       "      <td>20</td>\n",
       "      <td>10003</td>\n",
       "      <td>1197926461</td>\n",
       "      <td>1003</td>\n",
       "      <td>215</td>\n",
       "      <td>0.54</td>\n",
       "    </tr>\n",
       "    <tr>\n",
       "      <th>3</th>\n",
       "      <td>4</td>\n",
       "      <td>73</td>\n",
       "      <td>10002</td>\n",
       "      <td>5509104228</td>\n",
       "      <td>1004</td>\n",
       "      <td>216</td>\n",
       "      <td>0.30</td>\n",
       "    </tr>\n",
       "    <tr>\n",
       "      <th>4</th>\n",
       "      <td>5</td>\n",
       "      <td>80</td>\n",
       "      <td>9992</td>\n",
       "      <td>1377330478</td>\n",
       "      <td>1005</td>\n",
       "      <td>56</td>\n",
       "      <td>1.32</td>\n",
       "    </tr>\n",
       "  </tbody>\n",
       "</table>\n",
       "</div>"
      ],
      "text/plain": [
       "   Transaction_ID  Crypto_ID  Merchant_ID   Wallet_ID  Date_Time_ID  \\\n",
       "0               1         97        10003  6143198675          1001   \n",
       "1               2         70         9997  3126414494          1002   \n",
       "2               3         20        10003  1197926461          1003   \n",
       "3               4         73        10002  5509104228          1004   \n",
       "4               5         80         9992  1377330478          1005   \n",
       "\n",
       "   Traded_Amount  Fees  \n",
       "0            160  0.48  \n",
       "1             52  1.73  \n",
       "2            215  0.54  \n",
       "3            216  0.30  \n",
       "4             56  1.32  "
      ]
     },
     "execution_count": 18,
     "metadata": {},
     "output_type": "execute_result"
    }
   ],
   "source": [
    "transactions = data_helper.infoTransactions()\n",
    "transactions.head(5)"
   ]
  },
  {
   "cell_type": "code",
   "execution_count": 19,
   "metadata": {},
   "outputs": [
    {
     "data": {
      "text/plain": [
       "Transaction_ID      int64\n",
       "Crypto_ID           int64\n",
       "Merchant_ID         int64\n",
       "Wallet_ID           int64\n",
       "Date_Time_ID        int64\n",
       "Traded_Amount       int64\n",
       "Fees              float64\n",
       "dtype: object"
      ]
     },
     "execution_count": 19,
     "metadata": {},
     "output_type": "execute_result"
    }
   ],
   "source": [
    "transactions.dtypes"
   ]
  },
  {
   "attachments": {},
   "cell_type": "markdown",
   "metadata": {},
   "source": [
    "## Data Quality\n"
   ]
  },
  {
   "cell_type": "code",
   "execution_count": 20,
   "metadata": {},
   "outputs": [
    {
     "data": {
      "text/plain": [
       "0        False\n",
       "1        False\n",
       "2        False\n",
       "3        False\n",
       "4        False\n",
       "         ...  \n",
       "17995    False\n",
       "17996    False\n",
       "17997    False\n",
       "17998    False\n",
       "17999    False\n",
       "Length: 18000, dtype: bool"
      ]
     },
     "execution_count": 20,
     "metadata": {},
     "output_type": "execute_result"
    }
   ],
   "source": [
    "# dublicates \n",
    "transactions.duplicated()"
   ]
  },
  {
   "cell_type": "code",
   "execution_count": 21,
   "metadata": {},
   "outputs": [
    {
     "data": {
      "text/plain": [
       "Transaction_ID    0\n",
       "Crypto_ID         0\n",
       "Merchant_ID       0\n",
       "Wallet_ID         0\n",
       "Date_Time_ID      0\n",
       "Traded_Amount     0\n",
       "Fees              0\n",
       "dtype: int64"
      ]
     },
     "execution_count": 21,
     "metadata": {},
     "output_type": "execute_result"
    }
   ],
   "source": [
    "transactions.isna().sum()"
   ]
  },
  {
   "attachments": {},
   "cell_type": "markdown",
   "metadata": {},
   "source": [
    "## Load Data to BigQuery"
   ]
  },
  {
   "cell_type": "code",
   "execution_count": 22,
   "metadata": {},
   "outputs": [],
   "source": [
    "google = google_helper.GoogleHelper()\n",
    "# google.load_data_from_dataframe(table='fact_Transactions', dataframe=transactions)"
   ]
  },
  {
   "cell_type": "code",
   "execution_count": 23,
   "metadata": {},
   "outputs": [
    {
     "name": "stdout",
     "output_type": "stream",
     "text": [
      "2686 204 0.25\n",
      "3748 5 0.25\n",
      "4505 228 0.25\n",
      "5922 188 0.25\n",
      "5953 65 0.25\n"
     ]
    }
   ],
   "source": [
    "results = google.query(\"\"\"\n",
    "    SELECT Transaction_ID, Traded_Amount, Fees\n",
    "      FROM {}.{}.{}\n",
    "    LIMIT 5\n",
    "\"\"\".format(google.get_project_id(), google.get_dataset(), 'fact_Transactions'))\n",
    "\n",
    "for el in results:\n",
    "    print(el['Transaction_ID'], el['Traded_Amount'], el['Fees'])"
   ]
  },
  {
   "cell_type": "code",
   "execution_count": 24,
   "metadata": {},
   "outputs": [],
   "source": [
    "# Traded_Amount and Fees should not be less or equal to 0\n",
    "\n",
    "results = google.query(\"\"\"\n",
    "    SELECT Transaction_ID, Traded_Amount, Fees\n",
    "      FROM {}.{}.{}\n",
    "    WHERE Traded_Amount <= 0 AND Fees <= 0\n",
    "\"\"\".format(google.get_project_id(), google.get_dataset(), 'fact_Transactions'))\n",
    "\n",
    "for el in results:\n",
    "    print(el['Transaction_ID'], el['Traded_Amount'], el['Fees'])"
   ]
  }
 ],
 "metadata": {
  "kernelspec": {
   "display_name": "Python 3",
   "language": "python",
   "name": "python3"
  },
  "language_info": {
   "codemirror_mode": {
    "name": "ipython",
    "version": 3
   },
   "file_extension": ".py",
   "mimetype": "text/x-python",
   "name": "python",
   "nbconvert_exporter": "python",
   "pygments_lexer": "ipython3",
   "version": "3.11.1"
  },
  "orig_nbformat": 4,
  "vscode": {
   "interpreter": {
    "hash": "5670db84c706d1474f07fb2260788a5e725eafb6fcd736df3b4d3cbc7ba19c15"
   }
  }
 },
 "nbformat": 4,
 "nbformat_minor": 2
}
