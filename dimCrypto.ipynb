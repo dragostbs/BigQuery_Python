{
 "cells": [
  {
   "cell_type": "code",
   "execution_count": 111,
   "metadata": {},
   "outputs": [],
   "source": [
    "import utils.crypto_helper as crypto_helper\n",
    "import utils.google_helper as google_helper\n",
    "import pandas as pd"
   ]
  },
  {
   "attachments": {},
   "cell_type": "markdown",
   "metadata": {},
   "source": [
    "## Import Data"
   ]
  },
  {
   "cell_type": "code",
   "execution_count": 112,
   "metadata": {},
   "outputs": [
    {
     "data": {
      "text/html": [
       "<div>\n",
       "<style scoped>\n",
       "    .dataframe tbody tr th:only-of-type {\n",
       "        vertical-align: middle;\n",
       "    }\n",
       "\n",
       "    .dataframe tbody tr th {\n",
       "        vertical-align: top;\n",
       "    }\n",
       "\n",
       "    .dataframe thead th {\n",
       "        text-align: right;\n",
       "    }\n",
       "</style>\n",
       "<table border=\"1\" class=\"dataframe\">\n",
       "  <thead>\n",
       "    <tr style=\"text-align: right;\">\n",
       "      <th></th>\n",
       "      <th>Crypto_ID</th>\n",
       "      <th>Crypto_Name</th>\n",
       "      <th>Crypto_Price</th>\n",
       "      <th>Market_Cap</th>\n",
       "      <th>Total_Supply</th>\n",
       "      <th>Circulating_Supply</th>\n",
       "      <th>Price_High_24h</th>\n",
       "      <th>Price_Low_24h</th>\n",
       "      <th>Price_Change_Perchentage_24h</th>\n",
       "    </tr>\n",
       "  </thead>\n",
       "  <tbody>\n",
       "    <tr>\n",
       "      <th>0</th>\n",
       "      <td>1</td>\n",
       "      <td>Bitcoin</td>\n",
       "      <td>17909.980</td>\n",
       "      <td>344619416298</td>\n",
       "      <td>2.100000e+07</td>\n",
       "      <td>1.923362e+07</td>\n",
       "      <td>17942.240</td>\n",
       "      <td>17463.600000</td>\n",
       "      <td>2.55603</td>\n",
       "    </tr>\n",
       "    <tr>\n",
       "      <th>1</th>\n",
       "      <td>2</td>\n",
       "      <td>Ethereum</td>\n",
       "      <td>1331.700</td>\n",
       "      <td>160463076760</td>\n",
       "      <td>1.205219e+08</td>\n",
       "      <td>1.205219e+08</td>\n",
       "      <td>1341.760</td>\n",
       "      <td>1291.920000</td>\n",
       "      <td>3.07840</td>\n",
       "    </tr>\n",
       "    <tr>\n",
       "      <th>2</th>\n",
       "      <td>3</td>\n",
       "      <td>Tether</td>\n",
       "      <td>1.001</td>\n",
       "      <td>66051963364</td>\n",
       "      <td>6.597237e+10</td>\n",
       "      <td>6.597237e+10</td>\n",
       "      <td>1.003</td>\n",
       "      <td>0.987628</td>\n",
       "      <td>0.17495</td>\n",
       "    </tr>\n",
       "    <tr>\n",
       "      <th>3</th>\n",
       "      <td>4</td>\n",
       "      <td>USD Coin</td>\n",
       "      <td>1.000</td>\n",
       "      <td>45201718265</td>\n",
       "      <td>4.516089e+10</td>\n",
       "      <td>4.516581e+10</td>\n",
       "      <td>1.003</td>\n",
       "      <td>0.984953</td>\n",
       "      <td>0.55293</td>\n",
       "    </tr>\n",
       "    <tr>\n",
       "      <th>4</th>\n",
       "      <td>5</td>\n",
       "      <td>BNB</td>\n",
       "      <td>273.940</td>\n",
       "      <td>44704766520</td>\n",
       "      <td>1.632770e+08</td>\n",
       "      <td>1.632770e+08</td>\n",
       "      <td>279.740</td>\n",
       "      <td>265.890000</td>\n",
       "      <td>3.02454</td>\n",
       "    </tr>\n",
       "  </tbody>\n",
       "</table>\n",
       "</div>"
      ],
      "text/plain": [
       "   Crypto_ID Crypto_Name  Crypto_Price    Market_Cap  Total_Supply  \\\n",
       "0          1     Bitcoin     17909.980  344619416298  2.100000e+07   \n",
       "1          2    Ethereum      1331.700  160463076760  1.205219e+08   \n",
       "2          3      Tether         1.001   66051963364  6.597237e+10   \n",
       "3          4    USD Coin         1.000   45201718265  4.516089e+10   \n",
       "4          5         BNB       273.940   44704766520  1.632770e+08   \n",
       "\n",
       "   Circulating_Supply  Price_High_24h  Price_Low_24h  \\\n",
       "0        1.923362e+07       17942.240   17463.600000   \n",
       "1        1.205219e+08        1341.760    1291.920000   \n",
       "2        6.597237e+10           1.003       0.987628   \n",
       "3        4.516581e+10           1.003       0.984953   \n",
       "4        1.632770e+08         279.740     265.890000   \n",
       "\n",
       "   Price_Change_Perchentage_24h  \n",
       "0                       2.55603  \n",
       "1                       3.07840  \n",
       "2                       0.17495  \n",
       "3                       0.55293  \n",
       "4                       3.02454  "
      ]
     },
     "execution_count": 112,
     "metadata": {},
     "output_type": "execute_result"
    }
   ],
   "source": [
    "coins = crypto_helper.infoCoinMarkets()\n",
    "coins.head(5)\n"
   ]
  },
  {
   "cell_type": "code",
   "execution_count": 113,
   "metadata": {},
   "outputs": [
    {
     "data": {
      "text/plain": [
       "Crypto_ID                         int64\n",
       "Crypto_Name                      object\n",
       "Crypto_Price                    float64\n",
       "Market_Cap                        int64\n",
       "Total_Supply                    float64\n",
       "Circulating_Supply              float64\n",
       "Price_High_24h                  float64\n",
       "Price_Low_24h                   float64\n",
       "Price_Change_Perchentage_24h    float64\n",
       "dtype: object"
      ]
     },
     "execution_count": 113,
     "metadata": {},
     "output_type": "execute_result"
    }
   ],
   "source": [
    "coins.dtypes"
   ]
  },
  {
   "attachments": {},
   "cell_type": "markdown",
   "metadata": {},
   "source": [
    "## Data Quality"
   ]
  },
  {
   "cell_type": "code",
   "execution_count": 110,
   "metadata": {},
   "outputs": [
    {
     "data": {
      "text/plain": [
       "0     False\n",
       "1     False\n",
       "2     False\n",
       "3     False\n",
       "4     False\n",
       "      ...  \n",
       "95    False\n",
       "96    False\n",
       "97    False\n",
       "98    False\n",
       "99    False\n",
       "Length: 93, dtype: bool"
      ]
     },
     "execution_count": 110,
     "metadata": {},
     "output_type": "execute_result"
    }
   ],
   "source": [
    "# dublicates \n",
    "coins.duplicated()\n"
   ]
  },
  {
   "cell_type": "code",
   "execution_count": 115,
   "metadata": {},
   "outputs": [
    {
     "data": {
      "text/plain": [
       "Crypto_ID                       0\n",
       "Crypto_Name                     0\n",
       "Crypto_Price                    0\n",
       "Market_Cap                      0\n",
       "Total_Supply                    7\n",
       "Circulating_Supply              0\n",
       "Price_High_24h                  0\n",
       "Price_Low_24h                   0\n",
       "Price_Change_Perchentage_24h    0\n",
       "dtype: int64"
      ]
     },
     "execution_count": 115,
     "metadata": {},
     "output_type": "execute_result"
    }
   ],
   "source": [
    "# missing values\n",
    "coins.isna().sum()"
   ]
  },
  {
   "cell_type": "code",
   "execution_count": 116,
   "metadata": {},
   "outputs": [
    {
     "data": {
      "text/plain": [
       "Crypto_ID                       0\n",
       "Crypto_Name                     0\n",
       "Crypto_Price                    0\n",
       "Market_Cap                      0\n",
       "Total_Supply                    0\n",
       "Circulating_Supply              0\n",
       "Price_High_24h                  0\n",
       "Price_Low_24h                   0\n",
       "Price_Change_Perchentage_24h    0\n",
       "dtype: int64"
      ]
     },
     "execution_count": 116,
     "metadata": {},
     "output_type": "execute_result"
    }
   ],
   "source": [
    "# replace missing values\n",
    "coins = coins.dropna()\n",
    "coins.isna().sum()\n"
   ]
  },
  {
   "attachments": {},
   "cell_type": "markdown",
   "metadata": {},
   "source": [
    "## Load Data to BigQuery"
   ]
  },
  {
   "cell_type": "code",
   "execution_count": 117,
   "metadata": {},
   "outputs": [],
   "source": [
    "google = google_helper.GoogleHelper()\n",
    "# google.load_data_from_dataframe(table='dim_Cryptocurrency', dataframe=coins)"
   ]
  },
  {
   "cell_type": "code",
   "execution_count": 118,
   "metadata": {},
   "outputs": [
    {
     "name": "stdout",
     "output_type": "stream",
     "text": [
      "72 Dash 48.01 49.29 47.16\n",
      "52 Huobi 6.16 6.29 6.1\n",
      "87 THORChain 1.37 1.4 1.34\n",
      "19 Uniswap 5.96 6.02 5.79\n",
      "24 Chainlink 6.69 6.73 6.49\n"
     ]
    }
   ],
   "source": [
    "results = google.query(\"\"\"\n",
    "    SELECT Crypto_ID, Crypto_Name, Crypto_Price, Price_High_24h, Price_Low_24h\n",
    "      FROM {}.{}.{}\n",
    "    LIMIT 5\n",
    "\"\"\".format(google.get_project_id(), google.get_dataset(), 'dim_Cryptocurrency'))\n",
    "\n",
    "for el in results:\n",
    "    print(el['Crypto_ID'], el['Crypto_Name'], el['Crypto_Price'], el['Price_High_24h'], el['Price_Low_24h'])\n",
    "    "
   ]
  },
  {
   "cell_type": "code",
   "execution_count": 119,
   "metadata": {},
   "outputs": [],
   "source": [
    "# Check if the High_Price is lower than actual price and Low_Price is higher than actual price\n",
    "\n",
    "results = google.query(\"\"\"\n",
    "    SELECT Crypto_Name, Crypto_Price, Price_High_24h, Price_Low_24h\n",
    "      FROM {}.{}.{}\n",
    "    WHERE Price_High_24h < Crypto_Price and Crypto_Price < Price_Low_24h\n",
    "\"\"\".format(google.get_project_id(), google.get_dataset(), 'dim_Cryptocurrency'))\n",
    "\n",
    "for el in results:\n",
    "    print(el['Crypto_Name'])"
   ]
  }
 ],
 "metadata": {
  "kernelspec": {
   "display_name": "Python 3.11.1 64-bit",
   "language": "python",
   "name": "python3"
  },
  "language_info": {
   "codemirror_mode": {
    "name": "ipython",
    "version": 3
   },
   "file_extension": ".py",
   "mimetype": "text/x-python",
   "name": "python",
   "nbconvert_exporter": "python",
   "pygments_lexer": "ipython3",
   "version": "3.11.1"
  },
  "orig_nbformat": 4,
  "vscode": {
   "interpreter": {
    "hash": "5670db84c706d1474f07fb2260788a5e725eafb6fcd736df3b4d3cbc7ba19c15"
   }
  }
 },
 "nbformat": 4,
 "nbformat_minor": 2
}
