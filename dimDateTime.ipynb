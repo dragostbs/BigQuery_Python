{
 "cells": [
  {
   "cell_type": "code",
   "execution_count": 33,
   "metadata": {},
   "outputs": [],
   "source": [
    "import utils.data_helper as data_helper\n",
    "import utils.google_helper as google_helper\n",
    "import pandas as pd"
   ]
  },
  {
   "cell_type": "code",
   "execution_count": 34,
   "metadata": {},
   "outputs": [
    {
     "data": {
      "text/html": [
       "<div>\n",
       "<style scoped>\n",
       "    .dataframe tbody tr th:only-of-type {\n",
       "        vertical-align: middle;\n",
       "    }\n",
       "\n",
       "    .dataframe tbody tr th {\n",
       "        vertical-align: top;\n",
       "    }\n",
       "\n",
       "    .dataframe thead th {\n",
       "        text-align: right;\n",
       "    }\n",
       "</style>\n",
       "<table border=\"1\" class=\"dataframe\">\n",
       "  <thead>\n",
       "    <tr style=\"text-align: right;\">\n",
       "      <th></th>\n",
       "      <th>DateTime_ID</th>\n",
       "      <th>Transaction_Date</th>\n",
       "      <th>Transaction_Time</th>\n",
       "    </tr>\n",
       "  </thead>\n",
       "  <tbody>\n",
       "    <tr>\n",
       "      <th>0</th>\n",
       "      <td>1001</td>\n",
       "      <td>2021-07-15</td>\n",
       "      <td>13:21:06</td>\n",
       "    </tr>\n",
       "    <tr>\n",
       "      <th>1</th>\n",
       "      <td>1002</td>\n",
       "      <td>2021-12-06</td>\n",
       "      <td>22:14:47</td>\n",
       "    </tr>\n",
       "    <tr>\n",
       "      <th>2</th>\n",
       "      <td>1003</td>\n",
       "      <td>2021-07-27</td>\n",
       "      <td>16:30:08</td>\n",
       "    </tr>\n",
       "    <tr>\n",
       "      <th>3</th>\n",
       "      <td>1004</td>\n",
       "      <td>2021-01-22</td>\n",
       "      <td>19:42:05</td>\n",
       "    </tr>\n",
       "    <tr>\n",
       "      <th>4</th>\n",
       "      <td>1005</td>\n",
       "      <td>2022-09-26</td>\n",
       "      <td>11:40:36</td>\n",
       "    </tr>\n",
       "  </tbody>\n",
       "</table>\n",
       "</div>"
      ],
      "text/plain": [
       "   DateTime_ID Transaction_Date Transaction_Time\n",
       "0         1001       2021-07-15         13:21:06\n",
       "1         1002       2021-12-06         22:14:47\n",
       "2         1003       2021-07-27         16:30:08\n",
       "3         1004       2021-01-22         19:42:05\n",
       "4         1005       2022-09-26         11:40:36"
      ]
     },
     "execution_count": 34,
     "metadata": {},
     "output_type": "execute_result"
    }
   ],
   "source": [
    "dateTime = data_helper.infoDateTime() \n",
    "dateTime.head(5)"
   ]
  },
  {
   "cell_type": "code",
   "execution_count": 35,
   "metadata": {},
   "outputs": [
    {
     "data": {
      "text/plain": [
       "DateTime_ID          int64\n",
       "Transaction_Date    object\n",
       "Transaction_Time    object\n",
       "dtype: object"
      ]
     },
     "execution_count": 35,
     "metadata": {},
     "output_type": "execute_result"
    }
   ],
   "source": [
    "dateTime.dtypes"
   ]
  },
  {
   "attachments": {},
   "cell_type": "markdown",
   "metadata": {},
   "source": [
    "## Data Quality\n"
   ]
  },
  {
   "cell_type": "code",
   "execution_count": 36,
   "metadata": {},
   "outputs": [
    {
     "data": {
      "text/plain": [
       "0        False\n",
       "1        False\n",
       "2        False\n",
       "3        False\n",
       "4        False\n",
       "         ...  \n",
       "17995    False\n",
       "17996    False\n",
       "17997    False\n",
       "17998    False\n",
       "17999    False\n",
       "Length: 18000, dtype: bool"
      ]
     },
     "execution_count": 36,
     "metadata": {},
     "output_type": "execute_result"
    }
   ],
   "source": [
    "# dublicates \n",
    "dateTime.duplicated()"
   ]
  },
  {
   "cell_type": "code",
   "execution_count": 37,
   "metadata": {},
   "outputs": [
    {
     "data": {
      "text/plain": [
       "DateTime_ID         0\n",
       "Transaction_Date    0\n",
       "Transaction_Time    0\n",
       "dtype: int64"
      ]
     },
     "execution_count": 37,
     "metadata": {},
     "output_type": "execute_result"
    }
   ],
   "source": [
    "dateTime.isna().sum()"
   ]
  },
  {
   "attachments": {},
   "cell_type": "markdown",
   "metadata": {},
   "source": [
    "## Load Data to BigQuery"
   ]
  },
  {
   "cell_type": "code",
   "execution_count": 38,
   "metadata": {},
   "outputs": [],
   "source": [
    "google = google_helper.GoogleHelper()\n",
    "# google.load_data_from_dataframe(table='dim_DateTime', dataframe=dateTime)"
   ]
  },
  {
   "cell_type": "code",
   "execution_count": 39,
   "metadata": {},
   "outputs": [
    {
     "name": "stdout",
     "output_type": "stream",
     "text": [
      "1329 2021-01-01 16:32:07\n",
      "2065 2021-01-01 21:18:03\n",
      "3640 2021-01-01 16:03:24\n",
      "3823 2021-01-01 20:41:10\n",
      "4073 2021-01-01 0:24:28\n"
     ]
    }
   ],
   "source": [
    "results = google.query(\"\"\"\n",
    "    SELECT DateTime_ID, Transaction_Date, Transaction_Time\n",
    "      FROM {}.{}.{}\n",
    "    LIMIT 5\n",
    "\"\"\".format(google.get_project_id(), google.get_dataset(), 'dim_DateTime'))\n",
    "\n",
    "for row in results:\n",
    "    print(row['DateTime_ID'], row['Transaction_Date'], row['Transaction_Time'])"
   ]
  },
  {
   "cell_type": "code",
   "execution_count": 40,
   "metadata": {},
   "outputs": [],
   "source": [
    "# Return null for incorrect dates \n",
    "\n",
    "results = google.query(\"\"\"\n",
    "    SELECT DateTime_ID, Transaction_Date\n",
    "      FROM {}.{}.{}\n",
    "    WHERE SAFE_CAST(Transaction_Date AS DATE) IS NULL\n",
    "\"\"\".format(google.get_project_id(), google.get_dataset(), 'dim_DateTime'))\n",
    "\n",
    "for row in results:\n",
    "    print(row['DateTime_ID'], row['Transaction_Date'])"
   ]
  },
  {
   "cell_type": "code",
   "execution_count": 41,
   "metadata": {},
   "outputs": [],
   "source": [
    "# Return null for incorrect time \n",
    "\n",
    "results = google.query(\"\"\"\n",
    "    SELECT DateTime_ID, Transaction_Time\n",
    "      FROM {}.{}.{}\n",
    "    WHERE SAFE_CAST(Transaction_Time AS TIME) IS NULL\n",
    "\"\"\".format(google.get_project_id(), google.get_dataset(), 'dim_DateTime'))\n",
    "\n",
    "for row in results:\n",
    "    print(row['DateTime_ID'], row['Transaction_Time'])"
   ]
  }
 ],
 "metadata": {
  "kernelspec": {
   "display_name": "Python 3",
   "language": "python",
   "name": "python3"
  },
  "language_info": {
   "codemirror_mode": {
    "name": "ipython",
    "version": 3
   },
   "file_extension": ".py",
   "mimetype": "text/x-python",
   "name": "python",
   "nbconvert_exporter": "python",
   "pygments_lexer": "ipython3",
   "version": "3.11.1"
  },
  "orig_nbformat": 4,
  "vscode": {
   "interpreter": {
    "hash": "5670db84c706d1474f07fb2260788a5e725eafb6fcd736df3b4d3cbc7ba19c15"
   }
  }
 },
 "nbformat": 4,
 "nbformat_minor": 2
}
