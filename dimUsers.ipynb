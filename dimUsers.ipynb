{
 "cells": [
  {
   "cell_type": "code",
   "execution_count": 49,
   "metadata": {},
   "outputs": [],
   "source": [
    "import utils.data_helper as data_helper\n",
    "import utils.google_helper as google_helper\n",
    "import pandas as pd"
   ]
  },
  {
   "cell_type": "code",
   "execution_count": 50,
   "metadata": {},
   "outputs": [
    {
     "data": {
      "text/html": [
       "<div>\n",
       "<style scoped>\n",
       "    .dataframe tbody tr th:only-of-type {\n",
       "        vertical-align: middle;\n",
       "    }\n",
       "\n",
       "    .dataframe tbody tr th {\n",
       "        vertical-align: top;\n",
       "    }\n",
       "\n",
       "    .dataframe thead th {\n",
       "        text-align: right;\n",
       "    }\n",
       "</style>\n",
       "<table border=\"1\" class=\"dataframe\">\n",
       "  <thead>\n",
       "    <tr style=\"text-align: right;\">\n",
       "      <th></th>\n",
       "      <th>User_ID</th>\n",
       "      <th>Username</th>\n",
       "      <th>Email</th>\n",
       "      <th>Age</th>\n",
       "      <th>Gender</th>\n",
       "      <th>Address</th>\n",
       "      <th>Country</th>\n",
       "      <th>City</th>\n",
       "    </tr>\n",
       "  </thead>\n",
       "  <tbody>\n",
       "    <tr>\n",
       "      <th>0</th>\n",
       "      <td>1</td>\n",
       "      <td>cbelward0</td>\n",
       "      <td>jcassel0@yandex.ru</td>\n",
       "      <td>58</td>\n",
       "      <td>M</td>\n",
       "      <td>1920 Granby Alley</td>\n",
       "      <td>France</td>\n",
       "      <td>Cluses</td>\n",
       "    </tr>\n",
       "    <tr>\n",
       "      <th>1</th>\n",
       "      <td>2</td>\n",
       "      <td>eclitsome1</td>\n",
       "      <td>bdepero1@nyu.edu</td>\n",
       "      <td>41</td>\n",
       "      <td>F</td>\n",
       "      <td>27467 2nd Parkway</td>\n",
       "      <td>France</td>\n",
       "      <td>Agen</td>\n",
       "    </tr>\n",
       "    <tr>\n",
       "      <th>2</th>\n",
       "      <td>3</td>\n",
       "      <td>ckoubek2</td>\n",
       "      <td>cpollicott2@cocolog-nifty.com</td>\n",
       "      <td>69</td>\n",
       "      <td>F</td>\n",
       "      <td>32 Havey Lane</td>\n",
       "      <td>Switzerland</td>\n",
       "      <td>Luzern</td>\n",
       "    </tr>\n",
       "    <tr>\n",
       "      <th>3</th>\n",
       "      <td>4</td>\n",
       "      <td>bmacphee3</td>\n",
       "      <td>hlithcow3@hud.gov</td>\n",
       "      <td>44</td>\n",
       "      <td>M</td>\n",
       "      <td>5 Forest Court</td>\n",
       "      <td>France</td>\n",
       "      <td>Rambouillet</td>\n",
       "    </tr>\n",
       "    <tr>\n",
       "      <th>4</th>\n",
       "      <td>5</td>\n",
       "      <td>kceyssen4</td>\n",
       "      <td>rjakovijevic4@hubpages.com</td>\n",
       "      <td>65</td>\n",
       "      <td>M</td>\n",
       "      <td>60 Arrowood Alley</td>\n",
       "      <td>Italy</td>\n",
       "      <td>Milano</td>\n",
       "    </tr>\n",
       "  </tbody>\n",
       "</table>\n",
       "</div>"
      ],
      "text/plain": [
       "   User_ID    Username                          Email  Age Gender  \\\n",
       "0        1   cbelward0             jcassel0@yandex.ru   58      M   \n",
       "1        2  eclitsome1               bdepero1@nyu.edu   41      F   \n",
       "2        3    ckoubek2  cpollicott2@cocolog-nifty.com   69      F   \n",
       "3        4   bmacphee3              hlithcow3@hud.gov   44      M   \n",
       "4        5   kceyssen4     rjakovijevic4@hubpages.com   65      M   \n",
       "\n",
       "             Address      Country         City  \n",
       "0  1920 Granby Alley       France       Cluses  \n",
       "1  27467 2nd Parkway       France         Agen  \n",
       "2      32 Havey Lane  Switzerland       Luzern  \n",
       "3     5 Forest Court       France  Rambouillet  \n",
       "4  60 Arrowood Alley        Italy       Milano  "
      ]
     },
     "execution_count": 50,
     "metadata": {},
     "output_type": "execute_result"
    }
   ],
   "source": [
    "users = data_helper.infoUsers() \n",
    "users.head(5)"
   ]
  },
  {
   "cell_type": "code",
   "execution_count": 51,
   "metadata": {},
   "outputs": [
    {
     "data": {
      "text/plain": [
       "User_ID      int64\n",
       "Username    object\n",
       "Email       object\n",
       "Age          int64\n",
       "Gender      object\n",
       "Address     object\n",
       "Country     object\n",
       "City        object\n",
       "dtype: object"
      ]
     },
     "execution_count": 51,
     "metadata": {},
     "output_type": "execute_result"
    }
   ],
   "source": [
    "users.dtypes "
   ]
  },
  {
   "attachments": {},
   "cell_type": "markdown",
   "metadata": {},
   "source": [
    "## Data Quality"
   ]
  },
  {
   "cell_type": "code",
   "execution_count": 52,
   "metadata": {},
   "outputs": [
    {
     "data": {
      "text/plain": [
       "0      False\n",
       "1      False\n",
       "2      False\n",
       "3      False\n",
       "4      False\n",
       "       ...  \n",
       "494    False\n",
       "495    False\n",
       "496    False\n",
       "497    False\n",
       "498    False\n",
       "Length: 499, dtype: bool"
      ]
     },
     "execution_count": 52,
     "metadata": {},
     "output_type": "execute_result"
    }
   ],
   "source": [
    "# dublicates \n",
    "users.duplicated()"
   ]
  },
  {
   "cell_type": "code",
   "execution_count": 53,
   "metadata": {},
   "outputs": [
    {
     "data": {
      "text/plain": [
       "User_ID     0\n",
       "Username    0\n",
       "Email       0\n",
       "Age         0\n",
       "Gender      0\n",
       "Address     0\n",
       "Country     0\n",
       "City        0\n",
       "dtype: int64"
      ]
     },
     "execution_count": 53,
     "metadata": {},
     "output_type": "execute_result"
    }
   ],
   "source": [
    "users.isna().sum()"
   ]
  },
  {
   "attachments": {},
   "cell_type": "markdown",
   "metadata": {},
   "source": [
    "## Load Data to BigQuery\n"
   ]
  },
  {
   "cell_type": "code",
   "execution_count": 54,
   "metadata": {},
   "outputs": [],
   "source": [
    "google = google_helper.GoogleHelper()\n",
    "# google.load_data_from_dataframe(table='dim_Users', dataframe=users)"
   ]
  },
  {
   "cell_type": "code",
   "execution_count": 55,
   "metadata": {},
   "outputs": [
    {
     "name": "stdout",
     "output_type": "stream",
     "text": [
      "542 csalvatoref1 ghaynesf1@bandcamp.com 20 M\n",
      "330 cchasle95 mroseby95@mashable.com 21 M\n",
      "121 gklaff3c ghubbard3c@phpbb.com 23 F\n",
      "534 aiwanowiczet tcliftonet@ebay.com 28 F\n",
      "312 dneath8n cducarme8n@t-online.de 34 F\n"
     ]
    }
   ],
   "source": [
    "results = google.query(\"\"\"\n",
    "    SELECT User_ID, Username, Email, Age, Gender\n",
    "      FROM {}.{}.{}\n",
    "    LIMIT 5\n",
    "\"\"\".format(google.get_project_id(), google.get_dataset(), 'dim_Users'))\n",
    "\n",
    "for row in results:\n",
    "    print(row['User_ID'], row['Username'], row['Email'], row['Age'], row['Gender'])"
   ]
  },
  {
   "cell_type": "code",
   "execution_count": 56,
   "metadata": {},
   "outputs": [],
   "source": [
    "# Check for users to have more than 18 years old\n",
    "\n",
    "results = google.query(\"\"\"\n",
    "    SELECT User_ID, Age\n",
    "      FROM {}.{}.{}\n",
    "    WHERE Age < 18 \n",
    "\"\"\".format(google.get_project_id(), google.get_dataset(), 'dim_Users'))\n",
    "\n",
    "for row in results:\n",
    "    print(row['User_ID'], row['Age'])"
   ]
  },
  {
   "cell_type": "code",
   "execution_count": 57,
   "metadata": {},
   "outputs": [],
   "source": [
    "results = google.query(\"\"\"\n",
    "    SELECT User_ID, Email\n",
    "      FROM {}.{}.{}\n",
    "    WHERE Email NOT LIKE '%_@__%.__%' \n",
    "\"\"\".format(google.get_project_id(), google.get_dataset(), 'dim_Users'))\n",
    "\n",
    "for row in results:\n",
    "    print(row['User_ID'], row['Email'])"
   ]
  }
 ],
 "metadata": {
  "kernelspec": {
   "display_name": "Python 3",
   "language": "python",
   "name": "python3"
  },
  "language_info": {
   "codemirror_mode": {
    "name": "ipython",
    "version": 3
   },
   "file_extension": ".py",
   "mimetype": "text/x-python",
   "name": "python",
   "nbconvert_exporter": "python",
   "pygments_lexer": "ipython3",
   "version": "3.11.1"
  },
  "orig_nbformat": 4,
  "vscode": {
   "interpreter": {
    "hash": "5670db84c706d1474f07fb2260788a5e725eafb6fcd736df3b4d3cbc7ba19c15"
   }
  }
 },
 "nbformat": 4,
 "nbformat_minor": 2
}
