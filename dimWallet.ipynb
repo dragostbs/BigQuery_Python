{
 "cells": [
  {
   "cell_type": "code",
   "execution_count": 18,
   "metadata": {},
   "outputs": [],
   "source": [
    "import utils.data_helper as data_helper\n",
    "import utils.google_helper as google_helper\n",
    "import pandas as pd"
   ]
  },
  {
   "cell_type": "code",
   "execution_count": 19,
   "metadata": {},
   "outputs": [
    {
     "data": {
      "text/html": [
       "<div>\n",
       "<style scoped>\n",
       "    .dataframe tbody tr th:only-of-type {\n",
       "        vertical-align: middle;\n",
       "    }\n",
       "\n",
       "    .dataframe tbody tr th {\n",
       "        vertical-align: top;\n",
       "    }\n",
       "\n",
       "    .dataframe thead th {\n",
       "        text-align: right;\n",
       "    }\n",
       "</style>\n",
       "<table border=\"1\" class=\"dataframe\">\n",
       "  <thead>\n",
       "    <tr style=\"text-align: right;\">\n",
       "      <th></th>\n",
       "      <th>Wallet_ID</th>\n",
       "      <th>User_ID</th>\n",
       "      <th>Amount</th>\n",
       "    </tr>\n",
       "  </thead>\n",
       "  <tbody>\n",
       "    <tr>\n",
       "      <th>0</th>\n",
       "      <td>6143198675</td>\n",
       "      <td>1</td>\n",
       "      <td>8745</td>\n",
       "    </tr>\n",
       "    <tr>\n",
       "      <th>1</th>\n",
       "      <td>3126414494</td>\n",
       "      <td>2</td>\n",
       "      <td>8607</td>\n",
       "    </tr>\n",
       "    <tr>\n",
       "      <th>2</th>\n",
       "      <td>1197926461</td>\n",
       "      <td>3</td>\n",
       "      <td>9187</td>\n",
       "    </tr>\n",
       "    <tr>\n",
       "      <th>3</th>\n",
       "      <td>5509104228</td>\n",
       "      <td>4</td>\n",
       "      <td>7757</td>\n",
       "    </tr>\n",
       "    <tr>\n",
       "      <th>4</th>\n",
       "      <td>1377330478</td>\n",
       "      <td>5</td>\n",
       "      <td>6570</td>\n",
       "    </tr>\n",
       "  </tbody>\n",
       "</table>\n",
       "</div>"
      ],
      "text/plain": [
       "    Wallet_ID  User_ID  Amount\n",
       "0  6143198675        1    8745\n",
       "1  3126414494        2    8607\n",
       "2  1197926461        3    9187\n",
       "3  5509104228        4    7757\n",
       "4  1377330478        5    6570"
      ]
     },
     "execution_count": 19,
     "metadata": {},
     "output_type": "execute_result"
    }
   ],
   "source": [
    "wallet = data_helper.infoWallet() \n",
    "wallet.head(5)"
   ]
  },
  {
   "cell_type": "code",
   "execution_count": 20,
   "metadata": {},
   "outputs": [
    {
     "data": {
      "text/plain": [
       "Wallet_ID    int64\n",
       "User_ID      int64\n",
       "Amount       int64\n",
       "dtype: object"
      ]
     },
     "execution_count": 20,
     "metadata": {},
     "output_type": "execute_result"
    }
   ],
   "source": [
    "wallet.dtypes"
   ]
  },
  {
   "attachments": {},
   "cell_type": "markdown",
   "metadata": {},
   "source": [
    "## Data Quality"
   ]
  },
  {
   "cell_type": "code",
   "execution_count": 23,
   "metadata": {},
   "outputs": [
    {
     "data": {
      "text/plain": [
       "0      False\n",
       "1      False\n",
       "2      False\n",
       "3      False\n",
       "4      False\n",
       "       ...  \n",
       "494    False\n",
       "495    False\n",
       "496    False\n",
       "497    False\n",
       "498    False\n",
       "Length: 499, dtype: bool"
      ]
     },
     "execution_count": 23,
     "metadata": {},
     "output_type": "execute_result"
    }
   ],
   "source": [
    "# dublicates \n",
    "wallet.duplicated()"
   ]
  },
  {
   "cell_type": "code",
   "execution_count": 24,
   "metadata": {},
   "outputs": [
    {
     "data": {
      "text/plain": [
       "Wallet_ID    0\n",
       "User_ID      0\n",
       "Amount       0\n",
       "dtype: int64"
      ]
     },
     "execution_count": 24,
     "metadata": {},
     "output_type": "execute_result"
    }
   ],
   "source": [
    "wallet.isna().sum()"
   ]
  },
  {
   "attachments": {},
   "cell_type": "markdown",
   "metadata": {},
   "source": [
    "## Load Data to BigQuery"
   ]
  },
  {
   "cell_type": "code",
   "execution_count": 25,
   "metadata": {},
   "outputs": [],
   "source": [
    "google = google_helper.GoogleHelper()\n",
    "# google.load_data_from_dataframe(table='dim_Wallet', dataframe=wallet)"
   ]
  },
  {
   "cell_type": "code",
   "execution_count": 26,
   "metadata": {},
   "outputs": [
    {
     "name": "stdout",
     "output_type": "stream",
     "text": [
      "4235922645 546 5376\n",
      "1275337473 162 7170\n",
      "4425270622 23 8963\n",
      "7907503477 260 5893\n",
      "7075553852 234 9221\n"
     ]
    }
   ],
   "source": [
    "results = google.query(\"\"\"\n",
    "    SELECT Wallet_ID, User_ID, Amount\n",
    "      FROM {}.{}.{}\n",
    "    LIMIT 5\n",
    "\"\"\".format(google.get_project_id(), google.get_dataset(), 'dim_Wallet'))\n",
    "\n",
    "for el in results:\n",
    "    print(el['Wallet_ID'], el['User_ID'], el['Amount'])"
   ]
  },
  {
   "cell_type": "code",
   "execution_count": 27,
   "metadata": {},
   "outputs": [],
   "source": [
    "# Check for users to have capital in their wallets otherwise they can't trade\n",
    "\n",
    "results = google.query(\"\"\"\n",
    "    SELECT Wallet_ID, User_ID, Amount\n",
    "      FROM {}.{}.{}\n",
    "    WHERE Amount <= 0\n",
    "\"\"\".format(google.get_project_id(), google.get_dataset(), 'dim_Wallet'))\n",
    "\n",
    "for el in results:\n",
    "    print(el['Wallet_ID'], el['User_ID'], el['Amount'])"
   ]
  }
 ],
 "metadata": {
  "kernelspec": {
   "display_name": "Python 3",
   "language": "python",
   "name": "python3"
  },
  "language_info": {
   "codemirror_mode": {
    "name": "ipython",
    "version": 3
   },
   "file_extension": ".py",
   "mimetype": "text/x-python",
   "name": "python",
   "nbconvert_exporter": "python",
   "pygments_lexer": "ipython3",
   "version": "3.11.1"
  },
  "orig_nbformat": 4,
  "vscode": {
   "interpreter": {
    "hash": "5670db84c706d1474f07fb2260788a5e725eafb6fcd736df3b4d3cbc7ba19c15"
   }
  }
 },
 "nbformat": 4,
 "nbformat_minor": 2
}
